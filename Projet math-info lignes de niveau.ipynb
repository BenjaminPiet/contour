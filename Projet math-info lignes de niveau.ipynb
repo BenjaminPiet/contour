{
 "cells": [
  {
   "cell_type": "markdown",
   "metadata": {
    "slideshow": {
     "slide_type": "slide"
    }
   },
   "source": [
    "# Projet math-info lignes de niveau (Benjamin PIET et Antoine GAUCHOT)"
   ]
  },
  {
   "cell_type": "raw",
   "metadata": {},
   "source": [
    "Pour le contour simple:\n",
    "\n",
    "Soit f def sur [0,1]², continûment différentiable. On cherche les lignes de niveaux qui possèdent un point sur l'arête gauche du domaine de definition(de la forme (0,y) avec y dans [0,1]).\n",
    "Si c est compris entre f(0,0) et f(0,1), comme f continue, alors il existe t dans [0,1] tq f(0,t)=c\n",
    "\n",
    "Pour ce contour simple, on va définir une fct dichotomie, qui cherchera à chaque fois un tel t\n",
    "On \"découpe\" la zone cherché en intervalles espacés de delta et on cherche grace à find_seed des coordonées xi et yi tq f(xi,yi)=c\n"
   ]
  },
  {
   "cell_type": "code",
   "execution_count": null,
   "metadata": {},
   "outputs": [],
   "source": [
    "def find_seed (g, c=0.0, eps =2**(-26)):\n",
    "    \"\"\"\n",
    "    Entrées :\n",
    "        g : fonction à une variable ( ici, g(y) =f(0,y) )\n",
    "        eps : la précison souhaitée\n",
    "    Sortie :\n",
    "        si la condition n'est pas vérifiée, on renvoie None\n",
    "        sinon on renvoie un t tel que g(t) = c\n",
    "    \"\"\"\n",
    "    if not( (g(0)<= c and g(1)>=c ) or ( g(0)>= c and g(1)<=c)) :    #on vérifie si la condition est vérifiée\n",
    "        return(None)\n",
    "    \n",
    "    else :      #on cherche la solution par dichotomie\n",
    "        a, b= 0, 1\n",
    "    \n",
    "        if ( g(a) - c > 0) :  #et donc d'après notre hypothèse g(0,b) - c < 0\n",
    "            while ( abs (g(a) - c) > eps ) :\n",
    "                t = (a+b)/2\n",
    "                if ( g(t) > c):\n",
    "                    a=t\n",
    "                else :\n",
    "                    b=t\n",
    "    \n",
    "        else :  #et donc d'après notre hypothèse g(0,b) - c > 0\n",
    "            while ( abs (g(a) - c) > eps ) :\n",
    "                t = (a+b)/2\n",
    "                if ( g(t) < c):\n",
    "                    a=t\n",
    "                else :\n",
    "                    b=t\n",
    "        return(a)\n",
    "\n",
    "\n",
    "def simple_contour (f, c=0.0, delta=0.01) :\n",
    "    \"\"\"\n",
    "    \"\"\"\n",
    "    N = int( 1 / delta )    #\n",
    "    X = np.array( [ delta * i for i in range(N) ] )\n",
    "    Y= []\n",
    "    for i in range (N) :\n",
    "        def g(y) :\n",
    "            return( f( X[i],y ) ) \n",
    "        t = find_seed (g, c) \n",
    "        if t != None :\n",
    "            Y.append(t)\n",
    "        \n",
    "    X=X[:len(Y)]\n",
    "    return (X,Y)"
   ]
  },
  {
   "cell_type": "raw",
   "metadata": {},
   "source": [
    "Le problème avec cette première methode: les points ne sont pas réellements espacés de delta.\n",
    "Pour s'assurer de cela on créer une fct h de R² dans R², et on résout le système:\n",
    "    -> (x-xi)²+(y-yi)²-delta²=0\n",
    "    -> f(x,y)-c=0\n",
    "cad h(x,y)=0, avec à chaque fois (xi,yi) le point de la courbe de niveau trouvé juste avant.\n",
    "On va resoudre ce système en applicant la methode de newton à h"
   ]
  }
 ],
 "metadata": {
  "celltoolbar": "Diaporama",
  "kernelspec": {
   "display_name": "Python 3",
   "language": "python",
   "name": "python3"
  },
  "language_info": {
   "codemirror_mode": {
    "name": "ipython",
    "version": 3
   },
   "file_extension": ".py",
   "mimetype": "text/x-python",
   "name": "python",
   "nbconvert_exporter": "python",
   "pygments_lexer": "ipython3",
   "version": "3.7.3"
  }
 },
 "nbformat": 4,
 "nbformat_minor": 2
}

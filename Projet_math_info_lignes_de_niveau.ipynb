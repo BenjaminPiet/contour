{
 "cells": [
  {
   "cell_type": "markdown",
   "metadata": {
    "slideshow": {
     "slide_type": "slide"
    }
   },
   "source": [
    "# Projet math-info lignes de niveau (Benjamin PIET et Antoine GAUCHOT)"
   ]
  },
  {
   "cell_type": "raw",
   "metadata": {},
   "source": [
    "Pour le contour simple:\n",
    "\n",
    "Soit f definie sur [0,1]², continûment différentiable. On cherche les lignes de niveaux qui possèdent un point sur l'arête gauche du domaine de definition(de la forme (0,y) avec y dans [0,1]).\n",
    "Si c est compris entre f(0,0) et f(0,1), comme f continue, alors il existe t dans [0,1] tq f(0,t)=c\n",
    "\n",
    "Pour ce contour simple, on va définir une fct dichotomie, qui cherchera à chaque fois un tel t\n",
    "On \"découpe\" la zone cherché en intervalles espacés de delta et on cherche grace à find_seed des coordonées xi et yi tq f(xi,yi)=c\n"
   ]
  },
  {
   "cell_type": "code",
   "execution_count": 1,
   "metadata": {},
   "outputs": [],
   "source": [
    "import autograd\n",
    "from autograd import numpy as np # nécessaire d'importer le numpy fourni par autograd\n",
    "import matplotlib.pyplot as plt"
   ]
  },
  {
   "cell_type": "code",
   "execution_count": 2,
   "metadata": {},
   "outputs": [],
   "source": [
    "def find_seed (g, c=0.0, eps =2**(-26)):\n",
    "    \"\"\"\n",
    "    Entrées :\n",
    "        g : fonction à une variable ( ici, g(y) =f(0,y) )\n",
    "        eps : la précison souhaitée\n",
    "    Sortie :\n",
    "        si la condition n'est pas vérifiée, on renvoie None\n",
    "        sinon on renvoie un t tel que g(t) = c\n",
    "    \"\"\"\n",
    "    if not( (g(0)<= c and g(1)>=c ) or ( g(0)>= c and g(1)<=c)) :    #on vérifie si la condition est vérifiée\n",
    "        return(None)\n",
    "    else :      #on cherche la solution par dichotomie\n",
    "        a, b= 0, 1\n",
    "        if ( g(a) - c > 0) :  #et donc d'après notre hypothèse g(0,b) - c < 0\n",
    "            while ( abs (g(a) - c) > eps ) :\n",
    "                t = (a+b)/2\n",
    "                if ( g(t) > c):\n",
    "                    a=t\n",
    "                else :\n",
    "                    b=t\n",
    "        else :  #et donc d'après notre hypothèse g(0,b) - c > 0\n",
    "            while ( abs (g(a) - c) > eps ) :\n",
    "                t = (a+b)/2\n",
    "                if ( g(t) < c):\n",
    "                    a=t\n",
    "                else :\n",
    "                    b=t\n",
    "        return(a)\n",
    "\n",
    "\n",
    "def simple_contour (f, c=0.0, delta=0.01) :\n",
    "    \"\"\"\n",
    "    \"\"\"\n",
    "    N = int( 1 / delta )    #on découpe notre zone en N \"intervalles\" de taille delta\n",
    "    X = np.array( [ delta * i for i in range(N) ] )\n",
    "    Y= []\n",
    "    for i in range (N) :\n",
    "        def g(y) :\n",
    "            return( f( X[i],y ) ) \n",
    "        t = find_seed (g, c) \n",
    "        if t != None : #on regarde à chaque \"ligne horizontale\" si on trouve une solution, que l'on rajoute à la liste Y\n",
    "            Y.append(t)\n",
    "        \n",
    "    X=X[:len(Y)] #on ne garde que la liste des X où on a trouvé une solution\n",
    "    return (X,Y)"
   ]
  },
  {
   "cell_type": "code",
   "execution_count": 3,
   "metadata": {},
   "outputs": [
    {
     "data": {
      "image/png": "[encoded data removed]",
      "text/plain": [
       "<Figure size 432x288 with 1 Axes>"
      ]
     },
     "metadata": {
      "needs_background": "light"
     },
     "output_type": "display_data"
    }
   ],
   "source": [
    "#Premier test\n",
    "def f1(x,y):\n",
    "    return x**2+y**2\n",
    "X,Y=simple_contour(f1, c=0.8)\n",
    "plt.plot(X,Y)\n",
    "plt.show()\n"
   ]
  },
  {
   "cell_type": "code",
   "execution_count": 4,
   "metadata": {},
   "outputs": [
    {
     "data": {
      "image/png": "[encoded data removed]",
      "text/plain": [
       "<Figure size 432x288 with 1 Axes>"
      ]
     },
     "metadata": {
      "needs_background": "light"
     },
     "output_type": "display_data"
    }
   ],
   "source": [
    "#Deuxième test(pour voir si il arrive à faire une fct en plusieurs \"morceaux\")\n",
    "f00 = -1\n",
    "f01 = +1.2\n",
    "f10 = +1\n",
    "f11 = -0.8\n",
    "def f2(x, y):\n",
    "    fx0 = f00 * (1 - x) + f10 * x\n",
    "    fx1 = f01 * (1 - x) + f11 * x\n",
    "    return fx0 * (1 - y) + fx1 * y\n",
    "\n",
    "X,Y=simple_contour(f2, c=0)\n",
    "plt.plot(X,Y)\n",
    "plt.show()\n"
   ]
  },
  {
   "cell_type": "raw",
   "metadata": {},
   "source": [
    "Le problème avec cette première methode: les points ne sont pas réellements espacés de delta.\n",
    "Pour s'assurer de cela on créer une fct h de R² dans R², et on résout le système:\n",
    "    -> (x-xi)²+(y-yi)²-delta²=0\n",
    "    -> f(x,y)-c=0\n",
    "cad h(x,y)=0, avec à chaque fois (xi,yi) le point de la courbe de niveau trouvé juste avant.\n",
    "On va resoudre ce système en applicant la methode de newton à h"
   ]
  },
  {
   "cell_type": "code",
   "execution_count": 5,
   "metadata": {},
   "outputs": [],
   "source": [
    "def newton (h, X0, eps=2**(-26)) :\n",
    "    \"\"\"\n",
    "    renvoie X tel que h(X) = 0\n",
    "    \"\"\"\n",
    "    X=np.array(X0)\n",
    "    def J_h(x,y):\n",
    "        j=autograd.jacobian\n",
    "        return np.c_[j(h,0)(x,y),j(h,1)(x,y)]\n",
    "    while np.linalg.norm(h(X[0],X[1]))>eps:\n",
    "        #print(np.linalg.norm(h(X[0],X[1])))\n",
    "        #print(X[0],X[1])\n",
    "        #print(J_h(X[0],X[1]))\n",
    "        J_inv=np.linalg.inv(J_h(X[0],X[1]))\n",
    "        X=X-J_inv.dot(h(X[0],X[1]))\n",
    "    return X\n",
    "\n",
    "def simple_contour_upgrd(f, c=0.0,delta=0.01):\n",
    "    les_x=[0.0]\n",
    "    les_y=[]\n",
    "    def g(y) :\n",
    "            return( f( les_x[0],y ) ) \n",
    "    t = find_seed (g, c)  \n",
    "    if t != None :\n",
    "        les_y.append(t)\n",
    "    else:\n",
    "        les_x.pop()\n",
    "        return les_x,les_y\n",
    "        \n",
    "        #on a notre premier point de notre courbe. on va mtn faire la propagation\n",
    "    while 0<=les_x[-1]<=1 and 0<=les_y[-1]<=1:#on s'arrète quand on sort du cadre\n",
    "        xi=les_x[-1]\n",
    "        yi=les_y[-1]\n",
    "        Xi=np.array([xi,yi])\n",
    "        #on se déplace de delta selon l'orthogonal du gradient, \n",
    "        #et on cherche une solution garce à newton en partant de ce point\n",
    "        def grad_f(x,y):\n",
    "            g=autograd.grad\n",
    "            return np.r_[g(f,0)(x,y),g(f,1)(x,y)]\n",
    "        grad=grad_f(xi,yi)\n",
    "        grad_orth=np.array([grad[1],-grad[0]])\n",
    "        if grad_orth[0]<0: # pour éviter d'aller vers la gauche c'est grad_orth[0] < 0, pas grad_orth[1]\n",
    "            grad_orth[0],grad_orth[1]=-grad_orth[0],-grad_orth[1]\n",
    "        u = grad_orth / np.linalg.norm(grad_orth) # normalisation nécessaire !\n",
    "        Xg=Xi+delta*grad_orth\n",
    "              \n",
    "        \n",
    "        def h(x,y):\n",
    "            return np.array([(x-xi)**2+(y-yi)**2-delta**2,f(x,y)-c]) \n",
    "        \n",
    "        x,y=newton(h,Xg)\n",
    "        les_x.append(x)\n",
    "        les_y.append(y)\n",
    "    return les_x,les_y"
   ]
  },
  {
   "cell_type": "code",
   "execution_count": 6,
   "metadata": {},
   "outputs": [
    {
     "data": {
      "image/png": "[encoded data removed]",
      "text/plain": [
       "<Figure size 432x288 with 1 Axes>"
      ]
     },
     "metadata": {
      "needs_background": "light"
     },
     "output_type": "display_data"
    }
   ],
   "source": [
    "#Premier test\n",
    "def f1(x,y):\n",
    "    return x**2+y**2\n",
    "X,Y=simple_contour_upgrd(f1, c=0.8)\n",
    "plt.plot(X,Y)\n",
    "plt.xlim(0.0, 1.0)\n",
    "plt.ylim(0.0, 1.0)\n",
    "plt.show()"
   ]
  },
  {
   "cell_type": "code",
   "execution_count": 7,
   "metadata": {},
   "outputs": [
    {
     "data": {
      "image/png": "[encoded data removed]",
      "text/plain": [
       "<Figure size 432x288 with 1 Axes>"
      ]
     },
     "metadata": {
      "needs_background": "light"
     },
     "output_type": "display_data"
    }
   ],
   "source": [
    "#Deuxième test(pour voir si il arrive à faire une fct en plusieurs \"morceaux\")\n",
    "f00 = -1\n",
    "f01 = +1.2\n",
    "f10 = +1\n",
    "f11 = -0.8\n",
    "def f2(x, y):\n",
    "    fx0 = f00 * (1 - x) + f10 * x\n",
    "    fx1 = f01 * (1 - x) + f11 * x\n",
    "    return fx0 * (1 - y) + fx1 * y\n",
    "\n",
    "X,Y=simple_contour_upgrd(f2, c=0)\n",
    "plt.plot(X,Y)\n",
    "plt.show()\n"
   ]
  },
  {
   "cell_type": "raw",
   "metadata": {},
   "source": [
    "On a donc une fonction simple_contour_upgrd qui fonctionne. Il ne reste plus qu'à l'utiliser (en adaptant) pour faire \n",
    "la fonction contour. Le tout consiste à découper la grande zone en sous-espaces carrés et à chaque zone appliquer simple_contour_upgrd. Cependant comme la fct simple_contour_upgrd (et simple_contour) se limite à des fct sur [0,1]² et avec un point sur la gauche, il faut pouvoir 'tourner la zone' et 'adapter' la taille des petites zones en des zones [0,1]², applique la fct simple_contour puis réadapter la zone à la taille initiale. Cependant par manque de temps, nous avons décidé d'utiliser la fonction contour directement fournie sur le discourse."
   ]
  },
  {
   "cell_type": "code",
   "execution_count": 8,
   "metadata": {},
   "outputs": [],
   "source": [
    "\n",
    "# Rotators\n",
    "# ------------------------------------------------------------------------------\n",
    "LEFT, UP, RIGHT, DOWN = 0, 1, 2, 3  # clockwise\n",
    "\n",
    "\n",
    "def rotate_direction(direction, n=1):\n",
    "    return (direction + n) % 4\n",
    "\n",
    "\n",
    "def rotate(x, y, n=1):\n",
    "    if n == 0:\n",
    "        return x, y\n",
    "    elif n >= 1:\n",
    "        return rotate(1 - y, x, n - 1)\n",
    "    else:\n",
    "        assert n < 0\n",
    "        return rotate(x, y, n=-3 * n)\n",
    "\n",
    "\n",
    "def rotate_function(f, n=1):\n",
    "    def rotated_function(x, y):\n",
    "        xr, yr = rotate(x, y, -n)\n",
    "        return f(xr, yr)\n",
    "\n",
    "    return rotated_function\n",
    "\n",
    "\n",
    "# Complex Contouring\n",
    "# ------------------------------------------------------------------------------\n",
    "\n",
    "# Customize the simple_contour function used in contour :\n",
    "# simple_contour = smart_simple_contour\n",
    "\n",
    "\n",
    "def contour(f, c, xs=[0.0, 1.0], ys=[0.0, 1.0], delta=0.01):\n",
    "    curves = []\n",
    "    nx, ny = len(xs), len(ys)\n",
    "    for i in range(nx - 1):\n",
    "        for j in range(ny - 1):\n",
    "            xmin, xmax = xs[i], xs[i + 1]\n",
    "            ymin, ymax = ys[j], ys[j + 1]\n",
    "\n",
    "            def f_cell(x, y):\n",
    "                return f(xmin + (xmax - xmin) * x, ymin + (ymax - ymin) * y)\n",
    "\n",
    "            done = set()\n",
    "            for n in [0, 1, 2, 3]:\n",
    "                if n not in done:\n",
    "                    rotated_f_cell = rotate_function(f_cell, n)\n",
    "                    x_curve_r, y_curve_r = simple_contour_upgrd(rotated_f_cell, c, delta)\n",
    "                    exit = None\n",
    "                    if len(x_curve_r) >= 1:\n",
    "                        xf, yf = x_curve_r[-1], y_curve_r[-1]\n",
    "                        if xf == 0.0:\n",
    "                            exit = LEFT\n",
    "                        elif xf == 1.0:\n",
    "                            exit = RIGHT\n",
    "                        elif yf == 0.0:\n",
    "                            exit = DOWN\n",
    "                        elif yf == 1.0:\n",
    "                            exit = UP\n",
    "                    if exit is not None:  # a fully successful contour fragment\n",
    "                        exit = rotate_direction(exit, n)\n",
    "                        done.add(exit)\n",
    "\n",
    "                    x_curve, y_curve = [], []\n",
    "                    for x_r, y_r in zip(x_curve_r, y_curve_r):\n",
    "                        x, y = rotate(x_r, y_r, n=-n)\n",
    "                        x_curve.append(x)\n",
    "                        y_curve.append(y)\n",
    "                    x_curve = np.array(x_curve)\n",
    "                    y_curve = np.array(y_curve)\n",
    "                    curves.append(\n",
    "                        (xmin + (xmax - xmin) * x_curve, ymin + (ymax - ymin) * y_curve)\n",
    "                    )\n",
    "    return curves"
   ]
  },
  {
   "cell_type": "code",
   "execution_count": 9,
   "metadata": {},
   "outputs": [
    {
     "data": {
      "image/png": "[encoded data removed]",
      "text/plain": [
       "<Figure size 432x288 with 1 Axes>"
      ]
     },
     "metadata": {
      "needs_background": "light"
     },
     "output_type": "display_data"
    }
   ],
   "source": [
    "#Test pour la fct contour\n",
    "def f(x,y):\n",
    "    return 2*(np.exp(-x**2-y**2)-np.exp(-(x-1)**2-(y-1)**2))\n",
    "C=[-0.5,0.5]\n",
    "xc=np.linspace(-3,3,10)\n",
    "yc=np.linspace(-3,3,10)\n",
    "\n",
    "for c in C:\n",
    "    level_curves = contour(f, c, xc, yc) \n",
    "    for x, y in level_curves:\n",
    "        plt.plot(x, y)\n",
    "plt.show()\n",
    "\n"
   ]
  },
  {
   "cell_type": "raw",
   "metadata": {},
   "source": [
    "On a ainsi une fct contour qui fonctionne. Cependant, en fonction du nombre de points dans xc et yc, la fonction contour peut avoir enormement de mal à tracer les courbes de niveaux en fct du c choisi: dans l'exemple précedent, prendre 10 points convient pour c= +/- 0.5, mais si on en prend 20 le temps de calcul est bcp plus long, voir même infini(on n'a pas su dire si l'algo arrivait tjr à converger). Mais par contre 20 points est plutôt bien pour c= +/-1."
   ]
  }
 ],
 "metadata": {
  "celltoolbar": "Diaporama",
  "kernelspec": {
   "display_name": "Python 3",
   "language": "python",
   "name": "python3"
  },
  "language_info": {
   "codemirror_mode": {
    "name": "ipython",
    "version": 3
   },
   "file_extension": ".py",
   "mimetype": "text/x-python",
   "name": "python",
   "nbconvert_exporter": "python",
   "pygments_lexer": "ipython3",
   "version": "3.7.3"
  }
 },
 "nbformat": 4,
 "nbformat_minor": 2
}

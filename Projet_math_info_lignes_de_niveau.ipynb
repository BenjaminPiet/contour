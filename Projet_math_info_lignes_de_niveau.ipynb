{
 "cells": [
  {
   "cell_type": "markdown",
   "metadata": {
    "slideshow": {
     "slide_type": "slide"
    }
   },
   "source": [
    "# Projet math-info lignes de niveau (Benjamin PIET et Antoine GAUCHOT)"
   ]
  },
  {
   "cell_type": "raw",
   "metadata": {},
   "source": [
    "Pour le contour simple:\n",
    "\n",
    "Soit f def sur [0,1]², continûment différentiable. On cherche les lignes de niveaux qui possèdent un point sur l'arête gauche du domaine de definition(de la forme (0,y) avec y dans [0,1]).\n",
    "Si c est compris entre f(0,0) et f(0,1), comme f continue, alors il existe t dans [0,1] tq f(0,t)=c\n",
    "\n",
    "Pour ce contour simple, on va définir une fct dichotomie, qui cherchera à chaque fois un tel t\n",
    "On \"découpe\" la zone cherché en intervalles espacés de delta et on cherche grace à find_seed des coordonées xi et yi tq f(xi,yi)=c\n"
   ]
  },
  {
   "cell_type": "code",
   "execution_count": null,
   "metadata": {},
   "outputs": [],
   "source": [
    "def find_seed (g, c=0.0, eps =2**(-26)):\n",
    "    \"\"\"\n",
    "    Entrées :\n",
    "        g : fonction à une variable ( ici, g(y) =f(0,y) )\n",
    "        eps : la précison souhaitée\n",
    "    Sortie :\n",
    "        si la condition n'est pas vérifiée, on renvoie None\n",
    "        sinon on renvoie un t tel que g(t) = c\n",
    "    \"\"\"\n",
    "    if not( (g(0)<= c and g(1)>=c ) or ( g(0)>= c and g(1)<=c)) :    #on vérifie si la condition est vérifiée\n",
    "        return(None)\n",
    "    \n",
    "    else :      #on cherche la solution par dichotomie\n",
    "        a, b= 0, 1\n",
    "    \n",
    "        if ( g(a) - c > 0) :  #et donc d'après notre hypothèse g(0,b) - c < 0\n",
    "            while ( abs (g(a) - c) > eps ) :\n",
    "                t = (a+b)/2\n",
    "                if ( g(t) > c):\n",
    "                    a=t\n",
    "                else :\n",
    "                    b=t\n",
    "    \n",
    "        else :  #et donc d'après notre hypothèse g(0,b) - c > 0\n",
    "            while ( abs (g(a) - c) > eps ) :\n",
    "                t = (a+b)/2\n",
    "                if ( g(t) < c):\n",
    "                    a=t\n",
    "                else :\n",
    "                    b=t\n",
    "        return(a)\n",
    "\n",
    "\n",
    "def simple_contour (f, c=0.0, delta=0.01) :\n",
    "    \"\"\"\n",
    "    \"\"\"\n",
    "    N = int( 1 / delta )    #\n",
    "    X = np.array( [ delta * i for i in range(N) ] )\n",
    "    Y= []\n",
    "    for i in range (N) :\n",
    "        def g(y) :\n",
    "            return( f( X[i],y ) ) \n",
    "        t = find_seed (g, c) \n",
    "        if t != None :\n",
    "            Y.append(t)\n",
    "        \n",
    "    X=X[:len(Y)]\n",
    "    return (X,Y)"
   ]
  },
  {
   "cell_type": "code",
   "execution_count": null,
   "metadata": {},
   "outputs": [],
   "source": [
    "f00 = -1\n",
    "f01 = +1.2\n",
    "f10 = +1\n",
    "f11 = -0.8\n",
    "def f(x, y):\n",
    "    fx0 = f00 * (1 - x) + f10 * x\n",
    "    fx1 = f01 * (1 - x) + f11 * x\n",
    "    return fx0 * (1 - y) + fx1 * y\n",
    "\n",
    "X,Y=simple_contour_upgrd(f, c=0)\n",
    "plt.plot(X,Y)\n",
    "plt.show()\n"
   ]
  },
  {
   "cell_type": "raw",
   "metadata": {},
   "source": [
    "Le problème avec cette première methode: les points ne sont pas réellements espacés de delta.\n",
    "Pour s'assurer de cela on créer une fct h de R² dans R², et on résout le système:\n",
    "    -> (x-xi)²+(y-yi)²-delta²=0\n",
    "    -> f(x,y)-c=0\n",
    "cad h(x,y)=0, avec à chaque fois (xi,yi) le point de la courbe de niveau trouvé juste avant.\n",
    "On va resoudre ce système en applicant la methode de newton à h"
   ]
  },
  {
   "cell_type": "code",
   "execution_count": null,
   "metadata": {},
   "outputs": [],
   "source": [
    "def newton (h, X0, eps=2**(-26)) :\n",
    "    \"\"\"\n",
    "    renvoie X tel que h(X) = 0\n",
    "    \"\"\"\n",
    "    X=np.array(X0)\n",
    "    def J_h(x,y):\n",
    "        j=autograd.jacobian\n",
    "        return np.c_[j(h,0)(x,y),j(h,1)(x,y)]\n",
    "    while abs(h(X[0],X[1]).all())>eps:\n",
    "        print(X[0],X[1])\n",
    "        print(J_h(X[0],X[1]))\n",
    "        J_inv=np.linalg.inv(J_h(X[0],X[1]))\n",
    "        X=X-J_inv.dot(h(X[0],X[1]))\n",
    "    return X\n",
    "\n",
    "def simple_contour_upgrd(f, c=0.0,delta=0.01):\n",
    "    les_x=[0.0]\n",
    "    les_y=[]\n",
    "    def g(y) :\n",
    "            return( f( les_x[0],y ) ) \n",
    "    t = find_seed (g, c)  \n",
    "    if t != None :\n",
    "        les_y.append(t)\n",
    "        \n",
    "        #on a notre premier point de notre courbe. on va mtn faire la propagation\n",
    "    while 0<=les_x[-1]<=1 and 0<=les_y[-1]<=1:\n",
    "        xi=les_x[-1]\n",
    "        yi=les_y[-1]\n",
    "        Xi=np.array([xi,yi])\n",
    "        def grad_f(x,y):\n",
    "            g=autograd.grad\n",
    "            return np.r_[g(f,0)(x,y),g(f,1)(x,y)]\n",
    "        grad=grad_f(xi,yi)\n",
    "        grad_orth=np.array([grad[1],-grad[0]])\n",
    "        if grad_orth[1]<0:\n",
    "            grad_orth[0],grad_orth[1]=-grad_orth[0],-grad_orth[1]\n",
    "        Xg=Xi+delta*grad_orth\n",
    "              \n",
    "        \n",
    "        def h(x,y):\n",
    "            return np.array([[(x-xi)**2+(y-yi)**2-delta**2],[f(x,y)-c]])\n",
    "        \n",
    "        x,y=newton(h,Xg)\n",
    "        les_x.append(x)\n",
    "        les_y.append(y)\n",
    "    return les_x,les_y"
   ]
  }
 ],
 "metadata": {
  "celltoolbar": "Diaporama",
  "kernelspec": {
   "display_name": "Python 3",
   "language": "python",
   "name": "python3"
  },
  "language_info": {
   "codemirror_mode": {
    "name": "ipython",
    "version": 3
   },
   "file_extension": ".py",
   "mimetype": "text/x-python",
   "name": "python",
   "nbconvert_exporter": "python",
   "pygments_lexer": "ipython3",
   "version": "3.7.3"
  }
 },
 "nbformat": 4,
 "nbformat_minor": 2
}
